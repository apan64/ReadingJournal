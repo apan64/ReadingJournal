{
 "cells": [
  {
   "cell_type": "markdown",
   "metadata": {},
   "source": [
    "# Day 11 Reading Journal\n",
    "\n",
    "This journal includes several required exercises, but it is meant to encourage active reading more generally.  You should use the journal to take detailed notes, catalog questions, and explore the content from Think Python deeply.\n",
    "\n",
    "Reading: Review Think Python Chapters 15-17\n",
    "\n",
    "**Due: Monday, February 29 at 12 noon**\n",
    "\n"
   ]
  },
  {
   "cell_type": "markdown",
   "metadata": {},
   "source": [
    "## [Chapter 15](http://www.greenteapress.com/thinkpython/html/thinkpython016.html), [Chapter 16](http://www.greenteapress.com/thinkpython/html/thinkpython017.html), [Chapter 17](http://www.greenteapress.com/thinkpython/html/thinkpython018.html)\n",
    "\n",
    "\n",
    "By the end of chapter 17, we have all the tools we need to create our own user-defined types known as classes. In this reading journal, we're asking you to review and solidify your understanding of this material so we can build on it for the rest of the course. \n",
    "\n",
    "If you didn't get a chance to fully complete the Day 10 reading journal, you may want to do so now."
   ]
  },
  {
   "cell_type": "markdown",
   "metadata": {
    "problem": "Terminology"
   },
   "source": [
    "### Terminology\n",
    "\n",
    "You should be familiar with the following list of terms and concepts. If any of them are unclear to you, re-read, ask, write a definition in your own words, and try an example if appropriate.\n",
    "\n",
    " - class\n",
    " - object\n",
    " - instance\n",
    " - attribute\n",
    " - method\n",
    " - shallow vs deep copying\n",
    " - pure functions vs modifiers\n",
    " - initializing object instances\n",
    " "
   ]
  },
  {
   "cell_type": "markdown",
   "metadata": {
    "is_question": true,
    "problem": "Exercise 1"
   },
   "source": [
    "### Exercise\n",
    "\n",
    "We're going to take the first steps toward writing a calendar application. To keep things simple, we'll restrict ourselves to a single day for now. Write an `Event` class with the following attributes:\n",
    "\n",
    " - `name`  : Title for the `Event`\n",
    " - `start` : `Time` object representing the start time for the `Event`\n",
    " - `end`   : `Time` object representing the end time for the `Event`\n",
    "\n",
    "You can also augment your `Event` class with additional attributes, such as location and attendees.\n",
    "\n",
    "Write `__init__` and `__str__` methods for your `Event` class."
   ]
  },
  {
   "cell_type": "code",
   "execution_count": 8,
   "metadata": {
    "collapsed": false,
    "solution": "Exercise 1"
   },
   "outputs": [
    {
     "name": "stdout",
     "output_type": "stream",
     "text": [
      "Event Coding from 3:20:5 to 5:15:3\n"
     ]
    }
   ],
   "source": [
    "class Time:\n",
    "    def __init__(self, h, m, s):\n",
    "        self.hour, self.minute, self.second = h, m, s\n",
    "    def __str__(self):\n",
    "        return '{}:{}:{}'.format(self.hour, self.minute, self.second)\n",
    "class Event():\n",
    "    def __init__(self, n = '', s = Time(0, 0, 0), e = Time(0, 0, 0)):\n",
    "        self.name = n\n",
    "        self.start = s\n",
    "        self.end = e\n",
    "        \n",
    "    def __str__(self):\n",
    "        return 'Event {} from {} to {}'.format(self.name, self.start, self.end)\n",
    "print(Event('Coding', Time(3, 20, 5), Time(5, 15, 3)))"
   ]
  },
  {
   "cell_type": "markdown",
   "metadata": {
    "is_question": true,
    "problem": "Exercise 2"
   },
   "source": [
    "### Exercise\n",
    "\n",
    "Write a `duration` method that returns the duration of the `Event` in minutes."
   ]
  },
  {
   "cell_type": "code",
   "execution_count": 15,
   "metadata": {
    "collapsed": false,
    "solution": "Exercise 2"
   },
   "outputs": [
    {
     "name": "stdout",
     "output_type": "stream",
     "text": [
      "114.66666666666667 minutes\n"
     ]
    }
   ],
   "source": [
    "class Event():\n",
    "    def __init__(self, n = '', s = Time(0, 0, 0), e = Time(0, 0, 0)):\n",
    "        self.name = n\n",
    "        self.start = s\n",
    "        self.end = e\n",
    "        \n",
    "    def __str__(self):\n",
    "        return 'Event {} from {} to {}'.format(self.name, self.start, self.end)\n",
    "    def duration(self):\n",
    "        return (self.end.hour - self.start.hour) * 60 + self.end.minute - self.start.minute + float(self.end.second - self.start.second) * 1/6\n",
    "print(str(Event('Coding', Time(3, 20, 5), Time(5, 15, 3)).duration()) + ' minutes')"
   ]
  },
  {
   "cell_type": "markdown",
   "metadata": {
    "is_question": true,
    "problem": "Exercise 3"
   },
   "source": [
    "### Exercise\n",
    "\n",
    "Write an `Agenda` class that contains several `Event`s for the day.\n",
    "\n",
    "**Quick check: ** How should you store `Event`s within your `Agenda` class?\n",
    "\n",
    "Your `Agenda` class should include a `print_agenda` method that prints out your schedule for the day, in order.\n",
    "\n",
    "**Optional:** Include a `is_feasible` method that returns `True` if your schedule has no time conflicts. You may want to write additional helper methods for the `Event` class to make this easier."
   ]
  },
  {
   "cell_type": "code",
   "execution_count": 27,
   "metadata": {
    "collapsed": false,
    "solution": "Exercise 3"
   },
   "outputs": [
    {
     "name": "stdout",
     "output_type": "stream",
     "text": [
      "Event Coding from 3:20:5 to 5:15:3\n",
      "Event Not Coding from 7:48:5 to 9:23:6\n",
      "Event Maybe Coding from 11:52:16 to 12:44:44\n",
      "True\n",
      "Event Coding from 3:20:5 to 5:15:3\n",
      "Event Not Coding from 4:48:5 to 9:23:6\n",
      "Event Maybe Coding from 11:52:16 to 12:44:44\n",
      "False\n"
     ]
    }
   ],
   "source": [
    "class Agenda():\n",
    "    def __init__(self, l = None):\n",
    "        self.events = [] if(l == None) else l\n",
    "    def addEvent(self, e):\n",
    "        self.events.append(e)\n",
    "    def print_agenda(self):\n",
    "        temp = sorted(self.events, key = lambda event: event.start.hour*3600 + event.start.minute*60 + event.start.second)\n",
    "        for e in temp:\n",
    "            print(e)\n",
    "    def is_feasible(self):\n",
    "        temp = sorted(self.events, key = lambda event: event.start.hour*3600 + event.start.minute*60 + event.start.second)\n",
    "        cur = temp[0].end.hour*3600 + temp[0].end.minute*60 + temp[0].end.second\n",
    "        for x in range(1, len(temp)):\n",
    "            n = temp[x].start.hour*3600 + temp[x].start.minute*60 + temp[x].start.second\n",
    "            if(n < cur):\n",
    "                return False\n",
    "            cur = temp[x].end.hour*3600 + temp[x].end.minute*60 + temp[x].end.second\n",
    "        return True\n",
    "a = Agenda([Event('Not Coding', Time(7, 48, 5), Time(9, 23, 6)), Event('Coding', Time(3, 20, 5), Time(5, 15, 3)), Event('Maybe Coding', Time(11, 52, 16), Time(12, 44, 44))])\n",
    "a.print_agenda()\n",
    "print(a.is_feasible())\n",
    "b = Agenda([Event('Not Coding', Time(4, 48, 5), Time(9, 23, 6)), Event('Coding', Time(3, 20, 5), Time(5, 15, 3)), Event('Maybe Coding', Time(11, 52, 16), Time(12, 44, 44))])\n",
    "b.print_agenda()\n",
    "print(b.is_feasible())"
   ]
  },
  {
   "cell_type": "markdown",
   "metadata": {
    "is_question": true,
    "problem": "Exercise 4"
   },
   "source": [
    "### Going Beyond (optional)\n",
    "\n",
    "Some ideas for taking your application further:\n",
    " - Add people and/or places to the mix to create a scheduling assistant\n",
    " - Extend support for day-of-week or full date. A word of warning: dealing with dates and times in real applications is difficult due to the huge number of special cases (Perfect example: this reading journal is due on Leap Day). Consider using something like the Python [datetime](https://docs.python.org/2/library/datetime.html) module.\n",
    " - Use pickle or some other persistence strategy to save and load your `Agenda`."
   ]
  },
  {
   "cell_type": "code",
   "execution_count": null,
   "metadata": {
    "collapsed": true,
    "solution": "Exercise 4"
   },
   "outputs": [],
   "source": []
  },
  {
   "cell_type": "markdown",
   "metadata": {
    "is_poll": true,
    "is_question": true,
    "problem": "Time spent"
   },
   "source": [
    "## Quick poll\n",
    "About how long did you spend working on this Reading Journal?"
   ]
  },
  {
   "cell_type": "markdown",
   "metadata": {
    "poll_response": true,
    "solution": "Time spent"
   },
   "source": [
    "15 minutes "
   ]
  },
  {
   "cell_type": "markdown",
   "metadata": {
    "is_question": true,
    "problem": "Feedback"
   },
   "source": [
    "## Reading Journal feedback\n",
    "\n",
    "Have any comments on this Reading Journal? Feel free to leave them below and we'll read them when you submit your journal entry. This could include suggestions to improve the exercises, topics you'd like to see covered in class next time, or other feedback.\n",
    "\n",
    "If you have Python questions or run into problems while completing the reading, you should post them to Piazza instead so you can get a quick response before your journal is submitted."
   ]
  },
  {
   "cell_type": "markdown",
   "metadata": {
    "feedback_response": true,
    "solution": "Feedback"
   },
   "source": [
    " "
   ]
  }
 ],
 "metadata": {
  "celltoolbar": "Edit Metadata",
  "kernelspec": {
   "display_name": "Python 3",
   "language": "python",
   "name": "python3"
  },
  "language_info": {
   "codemirror_mode": {
    "name": "ipython",
    "version": 3
   },
   "file_extension": ".py",
   "mimetype": "text/x-python",
   "name": "python",
   "nbconvert_exporter": "python",
   "pygments_lexer": "ipython3",
   "version": "3.5.1"
  }
 },
 "nbformat": 4,
 "nbformat_minor": 0
}
